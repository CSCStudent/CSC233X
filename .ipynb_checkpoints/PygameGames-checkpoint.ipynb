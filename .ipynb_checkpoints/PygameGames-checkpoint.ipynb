{
 "cells": [
  {
   "cell_type": "markdown",
   "id": "dd1640cd-f88d-4180-b4a4-ac0a3feeeac0",
   "metadata": {},
   "source": [
    "Now, for a brief recap of the basics of pygame. A common method of organising the code for a game is to divide it into the following six sections:\n",
    "\n",
    "        Load modules which are required in the game. Standard stuff, except that you should remember to import the pygame local names as well as the pygame module itself\n",
    "\n",
    "        Resource handling classes; define some classes to handle your most basic resources, which will be loading images and sounds, as well as connecting and disconnecting to and from networks, loading save game files, and any other resources you might have.\n",
    "\n",
    "        Game object classes; define the classes for your game object. In the pong example, these will be one for the player's bat (which you can initialise multiple times, one for each player in the game), and one for the ball (which can again have multiple instances). If you're going to have a nice in-game menu, it's also a good idea to make a menu class.\n",
    "\n",
    "        Any other game functions; define other necessary functions, such as scoreboards, menu handling, etc. Any code that you could put into the main game logic, but that would make understanding said logic harder, should be put into its own function. So as plotting a scoreboard isn't game logic, it should be moved into a function.\n",
    "\n",
    "        Initialise the game, including the pygame objects themselves, the background, the game objects (initialising instances of the classes) and any other little bits of code you might want to add in.\n",
    "\n",
    "        The main loop, into which you put any input handling (i.e. watching for users hitting keys/mouse buttons), the code for updating the game objects, and finally for updating the screen.\n",
    "\n"
   ]
  },
  {
   "cell_type": "code",
   "execution_count": 1,
   "id": "8179e316-be2c-4c52-ac15-9b94be3ef409",
   "metadata": {},
   "outputs": [
    {
     "name": "stdout",
     "output_type": "stream",
     "text": [
      "pygame 2.1.2 (SDL 2.0.18, Python 3.9.7)\n",
      "Hello from the pygame community. https://www.pygame.org/contribute.html\n"
     ]
    }
   ],
   "source": [
    "import pygame\n",
    "from pygame.locals import *\n",
    "\n",
    "def main():\n",
    "    # Initialise screen\n",
    "    pygame.init()\n",
    "    screen = pygame.display.set_mode((150, 50))\n",
    "    pygame.display.set_caption('Basic Pygame program')\n",
    "\n",
    "    # Fill background\n",
    "    background = pygame.Surface(screen.get_size())\n",
    "    background = background.convert()\n",
    "    background.fill((250, 250, 250))\n",
    "\n",
    "    # Display some text\n",
    "    #First, we create a font object, which defines which font to use, and the \n",
    "    #size of the font. Then we create a text object, by using the render method \n",
    "    #that belongs to our font object\n",
    "    font = pygame.font.Font(None, 36)\n",
    "    text = font.render(\"Hello There\", 1, (10, 10, 10))\n",
    "    textpos = text.get_rect()\n",
    "    textpos.centerx = background.get_rect().centerx\n",
    "    background.blit(text, textpos)\n",
    "\n",
    "    # Blit everything to the screen\n",
    "    screen.blit(background, (0, 0))\n",
    "    pygame.display.flip()\n",
    "\n",
    "    # Event loop\n",
    "    while 1:\n",
    "        for event in pygame.event.get():\n",
    "            if event.type == QUIT:\n",
    "                return\n",
    "\n",
    "        screen.blit(background, (0, 0))\n",
    "        pygame.display.flip()\n",
    "\n",
    "\n",
    "if __name__ == '__main__': main()"
   ]
  },
  {
   "cell_type": "markdown",
   "id": "616cb945-b3cf-488d-95ee-e021eb3c4c5d",
   "metadata": {},
   "source": [
    "It's always a good idea to write your own resource handling functions, because although Pygame has methods for opening images and sounds, and other modules will have their methods of opening other resources, those methods can take up more than one line, they can require consistent modification by yourself, and they often don't provide satisfactory error handling. Writing resource handling functions gives you sophisticated, reusable code, and gives you more control over your resources. "
   ]
  },
  {
   "cell_type": "code",
   "execution_count": null,
   "id": "f72aeff0-ae68-45d2-83bb-27f5d2544a50",
   "metadata": {},
   "outputs": [],
   "source": [
    "def load_png(name):\n",
    "    \"\"\" Load image and return image object\"\"\"\n",
    "    fullname = os.path.join('data', name)\n",
    "    try:\n",
    "        image = pygame.image.load(fullname)\n",
    "        if image.get_alpha() is None:\n",
    "            image = image.convert()\n",
    "        else:\n",
    "            image = image.convert_alpha()\n",
    "    except pygame.error, message:\n",
    "        print 'Cannot load image:', fullname\n",
    "        raise SystemExit, message\n",
    "    return image, image.get_rect()"
   ]
  },
  {
   "cell_type": "markdown",
   "id": "85836929-43dc-4bbf-b6e8-eb63f7ceb2c5",
   "metadata": {},
   "source": [
    "Once you've loaded your modules, and written your resource handling functions, you'll want to get on to writing some game objects. The way this is done is fairly simple, though it can seem complex at first. You write a class for each type of object in the game, and then create an instance of those classes for the objects. You can then use those classes' methods to manipulate the objects, giving objects some motion and interactive capabilities.\n",
    "\n",
    "The other reason for creating a class for each object is sprites. Each image you render in your game will be a sprite object, and so to begin with, the class for each object should inherit the Sprite class (pygame.sprite.Sprite)."
   ]
  },
  {
   "cell_type": "code",
   "execution_count": null,
   "id": "c00ccc58-59d8-4a31-a832-52a7f0bcb48f",
   "metadata": {},
   "outputs": [],
   "source": [
    "# [load modules here]\n",
    "\n",
    "# [resource handling functions here]\n",
    "\n",
    "class SampleClass(pygame.sprite.Sprite):\n",
    "    # [class functions (methods) here]\n",
    "    # [e.g. a function to calculate new position]\n",
    "    # [and a function to check if it hits the side]\n",
    "    \n",
    "    def update(self):\n",
    "\n",
    "def main:\n",
    "    # [initiate game environment here]\n",
    "\n",
    "    # [create new object as instance of the class]\n",
    "    sample = SampleClass()\n",
    "\n",
    "    while 1:\n",
    "        # [check for user input]\n",
    "\n",
    "        # [call ball's update function]\n",
    "        SampleClass.update()"
   ]
  },
  {
   "cell_type": "code",
   "execution_count": null,
   "id": "efe15b90-88fd-482d-b8ec-a8bf8522af08",
   "metadata": {},
   "outputs": [],
   "source": [
    "class Ball(pygame.sprite.Sprite):\n",
    "    \"\"\"A ball that will move across the screen\n",
    "    Returns: ball object\n",
    "    Functions: update, calcnewpos\n",
    "    Attributes: area, vector\"\"\"\n",
    "\n",
    "    def __init__(self, vector):\n",
    "        pygame.sprite.Sprite.__init__(self)\n",
    "        self.image, self.rect = load_png('ball.png')\n",
    "        screen = pygame.display.get_surface()\n",
    "        self.area = screen.get_rect()\n",
    "        self.vector = vector\n",
    "\n",
    "    def update(self):\n",
    "        newpos = self.calcnewpos(self.rect,self.vector)\n",
    "        self.rect = newpos\n",
    "\n",
    "    def calcnewpos(self,rect,vector):\n",
    "        (angle,z) = vector\n",
    "        (dx,dy) = (z*math.cos(angle),z*math.sin(angle))\n",
    "        return rect.move(dx,dy)"
   ]
  },
  {
   "cell_type": "markdown",
   "id": "21596a0a-6d53-4d41-8c29-ca0a3aaedf94",
   "metadata": {},
   "source": [
    " https://www.pygame.org/docs/ref/draw.html#pygame.draw.rect\n",
    " \n",
    " pygame.draw\n",
    " pygame module for drawing shapes\n",
    " <ul>\n",
    "    <li>pygame.draw.rect</li>\n",
    "    \tdraw a rectangle\n",
    "    <li>pygame.draw.polygon</li>\n",
    "    \tdraw a polygon\n",
    "    <li>pygame.draw.circle</li>\n",
    "    \tdraw a circle\n",
    "    <li>pygame.draw.ellipse</li>\n",
    "    \tdraw an ellipse\n",
    "    <li>pygame.draw.arc</li>\n",
    "    \tdraw an elliptical arc\n",
    "    <li>pygame.draw.line</li>\n",
    "    \tdraw a straight line\n",
    "    <li>pygame.draw.lines</li>\n",
    "    \tdraw multiple contiguous straight line segments\n",
    "    <li>pygame.draw.aaline</li>\n",
    "    \tdraw a straight antialiased line\n",
    "    <li>pygame.draw.aalines</li>\n",
    "    \tdraw multiple contiguous straight antialiased line segments\n",
    "</ul>\n",
    "\n",
    "    Draw several simple shapes to a surface. These functions will work for rendering to any format of surface. Rendering to hardware surfaces will be slower than regular software surfaces."
   ]
  }
 ],
 "metadata": {
  "kernelspec": {
   "display_name": "Python 3 (ipykernel)",
   "language": "python",
   "name": "python3"
  },
  "language_info": {
   "codemirror_mode": {
    "name": "ipython",
    "version": 3
   },
   "file_extension": ".py",
   "mimetype": "text/x-python",
   "name": "python",
   "nbconvert_exporter": "python",
   "pygments_lexer": "ipython3",
   "version": "3.9.7"
  }
 },
 "nbformat": 4,
 "nbformat_minor": 5
}
