{
 "cells": [
  {
   "cell_type": "markdown",
   "id": "33898820-66b8-43fd-9126-0c48531237c8",
   "metadata": {
    "tags": []
   },
   "source": [
    "# Modules and the import Statement"
   ]
  },
  {
   "cell_type": "markdown",
   "id": "b55a805a-26ef-4c48-b82d-0a2a914baf22",
   "metadata": {},
   "source": [
    "In addition to the large number of modules that are included in the Python standard library, large Python projects are organized into modules and packages."
   ]
  },
  {
   "cell_type": "markdown",
   "id": "2356c3e2-9b5e-4abf-9d85-e69f26ba9b9c",
   "metadata": {},
   "source": [
    "When loading modules, the interpreter searches the list of directories in the sys.path."
   ]
  },
  {
   "cell_type": "code",
   "execution_count": 14,
   "id": "4aef553a-5d33-44be-bc6a-48ac3c48685c",
   "metadata": {},
   "outputs": [
    {
     "name": "stdout",
     "output_type": "stream",
     "text": [
      "['C:\\\\Users\\\\bobgi\\\\CSC233 Python', 'C:\\\\Users\\\\bobgi\\\\anaconda3\\\\python39.zip', 'C:\\\\Users\\\\bobgi\\\\anaconda3\\\\DLLs', 'C:\\\\Users\\\\bobgi\\\\anaconda3\\\\lib', 'C:\\\\Users\\\\bobgi\\\\anaconda3', '', 'C:\\\\Users\\\\bobgi\\\\anaconda3\\\\lib\\\\site-packages', 'C:\\\\Users\\\\bobgi\\\\anaconda3\\\\lib\\\\site-packages\\\\locket-0.2.1-py3.9.egg', 'C:\\\\Users\\\\bobgi\\\\anaconda3\\\\lib\\\\site-packages\\\\win32', 'C:\\\\Users\\\\bobgi\\\\anaconda3\\\\lib\\\\site-packages\\\\win32\\\\lib', 'C:\\\\Users\\\\bobgi\\\\anaconda3\\\\lib\\\\site-packages\\\\Pythonwin', 'C:\\\\Users\\\\bobgi\\\\anaconda3\\\\lib\\\\site-packages\\\\IPython\\\\extensions', 'C:\\\\Users\\\\bobgi\\\\.ipython']\n"
     ]
    }
   ],
   "source": [
    "import sys\n",
    "\n",
    "print(sys.path)"
   ]
  },
  {
   "cell_type": "markdown",
   "id": "f7d9341c-68fb-46a8-a846-be35e0165173",
   "metadata": {},
   "source": [
    "Any Python source file can be used as a module.  The <b>import</b> statement can appear at any point in a prgoram and executes all of the statements in the loaded source file.  The name used to refer to a module can be changed using the <b>as</b> qualifier."
   ]
  },
  {
   "cell_type": "code",
   "execution_count": 6,
   "id": "484fb800-7066-4be4-be94-e5c4ac7a7f23",
   "metadata": {},
   "outputs": [
    {
     "name": "stdout",
     "output_type": "stream",
     "text": [
      "3\n",
      "I'm function bar() calling foo()\n",
      "I'm Spam.grok\n"
     ]
    }
   ],
   "source": [
    "import spam as sp  #load and excutes the module spam\n",
    "\n",
    "x = sp.a   #accesses the member of module spam\n",
    "print(x)\n",
    "sp.bar()   #call a function in module spam\n",
    "s = sp.Spam()  #create an instance of class Spam\n",
    "s.grok()"
   ]
  },
  {
   "cell_type": "markdown",
   "id": "6e7f2f3d-f17f-474b-9597-50178a77298e",
   "metadata": {},
   "source": [
    "## Importing a Selected Symbol from Module"
   ]
  },
  {
   "cell_type": "markdown",
   "id": "d2263a05-10f1-4b33-a795-c5cad6e99fb9",
   "metadata": {},
   "source": [
    "The from module import * statement may only be used at the top level of a module."
   ]
  },
  {
   "cell_type": "code",
   "execution_count": 13,
   "id": "f523fd83-a068-4d0d-b8a6-15dba797ea9c",
   "metadata": {},
   "outputs": [
    {
     "name": "stdout",
     "output_type": "stream",
     "text": [
      "I'm function bar() calling foo()\n",
      "I'm function bar() calling foo()\n"
     ]
    }
   ],
   "source": [
    "from spam import bar\n",
    "\n",
    "bar()\n",
    "sp.bar()"
   ]
  },
  {
   "cell_type": "markdown",
   "id": "525de2a1-d2a5-47f7-98c7-37936c5f4a32",
   "metadata": {},
   "source": [
    "## Packages"
   ]
  },
  {
   "cell_type": "markdown",
   "id": "1dd3a4d9-6dfe-46c3-93a3-1e98c57f50eb",
   "metadata": {},
   "source": [
    "Packages allow a collection of modules to be grouped under a common package name. A package is defined by creating a directory with the same name as the package and creating a \\_\\_init__.py in that directory.  You can then place addition source file as needed.  When any part of a package is imported, the code in the \\_\\_init__.py file is executed.\n",
    "\n",
    "The <b>import<\\b> statement is used to load modules from a package."
   ]
  }
 ],
 "metadata": {
  "kernelspec": {
   "display_name": "Python 3 (ipykernel)",
   "language": "python",
   "name": "python3"
  },
  "language_info": {
   "codemirror_mode": {
    "name": "ipython",
    "version": 3
   },
   "file_extension": ".py",
   "mimetype": "text/x-python",
   "name": "python",
   "nbconvert_exporter": "python",
   "pygments_lexer": "ipython3",
   "version": "3.9.7"
  }
 },
 "nbformat": 4,
 "nbformat_minor": 5
}
