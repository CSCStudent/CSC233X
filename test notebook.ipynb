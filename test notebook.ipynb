{
 "cells": [
  {
   "cell_type": "markdown",
   "id": "bbaed75c",
   "metadata": {},
   "source": [
    "# this heading"
   ]
  },
  {
   "cell_type": "markdown",
   "id": "7d88e286",
   "metadata": {},
   "source": [
    "## this is a heading"
   ]
  },
  {
   "cell_type": "code",
   "execution_count": 1,
   "id": "4f3605d3",
   "metadata": {},
   "outputs": [
    {
     "name": "stdout",
     "output_type": "stream",
     "text": [
      "hello world\n"
     ]
    }
   ],
   "source": [
    "print(\"hello world\")"
   ]
  },
  {
   "cell_type": "code",
   "execution_count": null,
   "id": "4cf2df5b",
   "metadata": {},
   "outputs": [],
   "source": []
  }
 ],
 "metadata": {
  "hide_input": false,
  "kernelspec": {
   "display_name": "Python 3 (ipykernel)",
   "language": "python",
   "name": "python3"
  },
  "language_info": {
   "codemirror_mode": {
    "name": "ipython",
    "version": 3
   },
   "file_extension": ".py",
   "mimetype": "text/x-python",
   "name": "python",
   "nbconvert_exporter": "python",
   "pygments_lexer": "ipython3",
   "version": "3.9.7"
  }
 },
 "nbformat": 4,
 "nbformat_minor": 5
}
